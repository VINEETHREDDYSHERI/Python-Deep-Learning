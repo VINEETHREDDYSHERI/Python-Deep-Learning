{
  "nbformat": 4,
  "nbformat_minor": 0,
  "metadata": {
    "colab": {
      "name": "Question1.ipynb",
      "provenance": []
    },
    "kernelspec": {
      "name": "python3",
      "display_name": "Python 3"
    },
    "language_info": {
      "name": "python"
    }
  },
  "cells": [
    {
      "cell_type": "code",
      "metadata": {
        "colab": {
          "base_uri": "https://localhost:8080/"
        },
        "id": "fzq59tSebX8U",
        "outputId": "0efb262d-88fd-418c-ed73-05827fdbcd0a"
      },
      "source": [
        "from google.colab import drive\n",
        "drive.mount('/content/gdrive')"
      ],
      "execution_count": 1,
      "outputs": [
        {
          "output_type": "stream",
          "text": [
            "Mounted at /content/gdrive\n"
          ],
          "name": "stdout"
        }
      ]
    },
    {
      "cell_type": "code",
      "metadata": {
        "colab": {
          "base_uri": "https://localhost:8080/"
        },
        "id": "q_C3CW75bTc7",
        "outputId": "d21efbee-eb6d-4e15-c0b7-67f4773108ff"
      },
      "source": [
        "from keras.models import Sequential\n",
        "from keras import layers\n",
        "from keras.preprocessing.text import Tokenizer\n",
        "import pandas as pd\n",
        "from sklearn import preprocessing\n",
        "from sklearn.model_selection import train_test_split\n",
        "\n",
        "df = pd.read_csv('/content/gdrive/MyDrive/ICPLab10/imdb_master.csv', encoding='latin-1')\n",
        "print(df.head())\n",
        "sentences = df['review'].values\n",
        "y = df['label'].values\n",
        "\n",
        "# tokenizing data\n",
        "tokenizer = Tokenizer(num_words=2000)\n",
        "tokenizer.fit_on_texts(sentences)\n",
        "\n",
        "# getting the vocabulary of data\n",
        "sentences = tokenizer.texts_to_matrix(sentences)\n",
        "le = preprocessing.LabelEncoder()\n",
        "y = le.fit_transform(y)\n",
        "X_train, X_test, y_train, y_test = train_test_split(sentences, y, test_size=0.25, random_state=1000)\n",
        "\n",
        "# Number of features\n",
        "input_dim = 2000\n",
        "print(input_dim)\n",
        "model = Sequential()\n",
        "model.add(layers.Dense(300, input_dim=input_dim, activation='relu'))\n",
        "model.add(layers.Dense(3, activation='sigmoid'))\n",
        "model.compile(loss='sparse_categorical_crossentropy', optimizer='adam', metrics=['acc'])\n",
        "history = model.fit(X_train, y_train, epochs=5, verbose=True, validation_data=(X_test, y_test), batch_size=256)"
      ],
      "execution_count": 2,
      "outputs": [
        {
          "output_type": "stream",
          "text": [
            "   Unnamed: 0  type  ... label         file\n",
            "0           0  test  ...   neg      0_2.txt\n",
            "1           1  test  ...   neg  10000_4.txt\n",
            "2           2  test  ...   neg  10001_1.txt\n",
            "3           3  test  ...   neg  10002_3.txt\n",
            "4           4  test  ...   neg  10003_3.txt\n",
            "\n",
            "[5 rows x 5 columns]\n",
            "2000\n",
            "Epoch 1/5\n",
            "293/293 [==============================] - 7s 22ms/step - loss: 0.9220 - acc: 0.4932 - val_loss: 0.8442 - val_acc: 0.5126\n",
            "Epoch 2/5\n",
            "293/293 [==============================] - 6s 20ms/step - loss: 0.7918 - acc: 0.5776 - val_loss: 0.8421 - val_acc: 0.5190\n",
            "Epoch 3/5\n",
            "293/293 [==============================] - 6s 21ms/step - loss: 0.6888 - acc: 0.6796 - val_loss: 0.8729 - val_acc: 0.5151\n",
            "Epoch 4/5\n",
            "293/293 [==============================] - 6s 20ms/step - loss: 0.5055 - acc: 0.8182 - val_loss: 0.9512 - val_acc: 0.5123\n",
            "Epoch 5/5\n",
            "293/293 [==============================] - 6s 20ms/step - loss: 0.2967 - acc: 0.9278 - val_loss: 1.0575 - val_acc: 0.5091\n"
          ],
          "name": "stdout"
        }
      ]
    },
    {
      "cell_type": "code",
      "metadata": {
        "id": "uzrbpa0imZCn"
      },
      "source": [
        ""
      ],
      "execution_count": null,
      "outputs": []
    }
  ]
}