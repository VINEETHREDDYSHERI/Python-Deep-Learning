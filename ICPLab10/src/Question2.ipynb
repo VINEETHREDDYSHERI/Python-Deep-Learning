{
  "nbformat": 4,
  "nbformat_minor": 0,
  "metadata": {
    "colab": {
      "name": "Question2.ipynb",
      "provenance": []
    },
    "kernelspec": {
      "name": "python3",
      "display_name": "Python 3"
    },
    "language_info": {
      "name": "python"
    }
  },
  "cells": [
    {
      "cell_type": "code",
      "metadata": {
        "colab": {
          "base_uri": "https://localhost:8080/"
        },
        "id": "QIyD_VS08MEo",
        "outputId": "2956d28b-a4dd-4f96-b751-08649020915c"
      },
      "source": [
        "from google.colab import drive\n",
        "drive.mount('/content/gdrive')"
      ],
      "execution_count": 1,
      "outputs": [
        {
          "output_type": "stream",
          "text": [
            "Mounted at /content/gdrive\n"
          ],
          "name": "stdout"
        }
      ]
    },
    {
      "cell_type": "code",
      "metadata": {
        "id": "CQcwwNcNNbWQ"
      },
      "source": [
        "from keras.models import Sequential\n",
        "from keras import layers\n",
        "from keras.preprocessing.text import Tokenizer\n",
        "import pandas as pd\n",
        "from sklearn import preprocessing\n",
        "from sklearn.model_selection import train_test_split\n",
        "from keras.layers.embeddings import Embedding\n",
        "from keras.preprocessing.sequence import pad_sequences\n",
        "import matplotlib.pyplot as plt\n"
      ],
      "execution_count": 9,
      "outputs": []
    },
    {
      "cell_type": "code",
      "metadata": {
        "id": "Ls5H0Eyx2bk_",
        "colab": {
          "base_uri": "https://localhost:8080/"
        },
        "outputId": "466e9ab6-6d34-4208-cf3b-b560908ed0d7"
      },
      "source": [
        "\n",
        "df = pd.read_csv('/content/gdrive/MyDrive/ICPLab10/imdb_master.csv', encoding='latin-1')\n",
        "print(df.head())\n",
        "sentences = df['review'].values\n",
        "# Calculating the maximum words in a sentence\n",
        "maxWords = max([len(s.split()) for s in sentences])\n",
        "y = df['label'].values\n",
        "\n",
        "# Tokenizing the data\n",
        "tokenizer = Tokenizer(num_words=maxWords)\n",
        "tokenizer.fit_on_texts(sentences)\n",
        "\n",
        "# Getting the vocabulary of data\n",
        "sentences = tokenizer.texts_to_matrix(sentences)\n",
        "vocab_size = len(tokenizer.word_index) + 1\n",
        "padded_docs = pad_sequences(sentences, maxlen=maxWords)\n",
        "\n",
        "# Converting the target into numerical format\n",
        "labelEncoder = preprocessing.LabelEncoder()\n",
        "y = labelEncoder.fit_transform(y)\n",
        "# Splitting the data into training and testing\n",
        "X_train, X_test, y_train, y_test = train_test_split(padded_docs, y, test_size=0.25, random_state=1000)\n",
        "\n",
        "# Defining the model\n",
        "model = Sequential()\n",
        "model.add(Embedding(vocab_size, 32, input_length=maxWords))\n",
        "model.add(layers.Flatten())\n",
        "model.add(layers.Dense(300, activation='relu'))\n",
        "model.add(layers.Dense(3, activation='sigmoid'))\n",
        "model.compile(loss='sparse_categorical_crossentropy', optimizer='adam', metrics=['acc'])\n",
        "\n",
        "# Training the model for 5 epochs\n",
        "history = model.fit(X_train, y_train, epochs=5, verbose=True, validation_data=(X_test, y_test), batch_size=256)\n"
      ],
      "execution_count": 8,
      "outputs": [
        {
          "output_type": "stream",
          "text": [
            "   Unnamed: 0  type  ... label         file\n",
            "0           0  test  ...   neg      0_2.txt\n",
            "1           1  test  ...   neg  10000_4.txt\n",
            "2           2  test  ...   neg  10001_1.txt\n",
            "3           3  test  ...   neg  10002_3.txt\n",
            "4           4  test  ...   neg  10003_3.txt\n",
            "\n",
            "[5 rows x 5 columns]\n",
            "Epoch 1/5\n",
            "293/293 [==============================] - 32s 108ms/step - loss: 1.2664 - acc: 0.4819 - val_loss: 0.8482 - val_acc: 0.5116\n",
            "Epoch 2/5\n",
            "293/293 [==============================] - 31s 107ms/step - loss: 0.8259 - acc: 0.5332 - val_loss: 0.8316 - val_acc: 0.5141\n",
            "Epoch 3/5\n",
            "293/293 [==============================] - 31s 106ms/step - loss: 0.7924 - acc: 0.5603 - val_loss: 0.8325 - val_acc: 0.5244\n",
            "Epoch 4/5\n",
            "293/293 [==============================] - 31s 107ms/step - loss: 0.7726 - acc: 0.5807 - val_loss: 0.8385 - val_acc: 0.5167\n",
            "Epoch 5/5\n",
            "293/293 [==============================] - 31s 107ms/step - loss: 0.7392 - acc: 0.6118 - val_loss: 0.8460 - val_acc: 0.5135\n"
          ],
          "name": "stdout"
        }
      ]
    },
    {
      "cell_type": "code",
      "metadata": {
        "colab": {
          "base_uri": "https://localhost:8080/",
          "height": 573
        },
        "id": "5yTYDCu18LJi",
        "outputId": "fcc29d04-afb8-43a9-9b2a-842368a03e8d"
      },
      "source": [
        "# Models Loss/Error value during training phase\n",
        "plt.plot(history.history['loss'])\n",
        "plt.plot(history.history['val_loss'])\n",
        "plt.title(\"Models's Loss/Error\")\n",
        "plt.legend([\"Training\", \"Validation\"])\n",
        "plt.xlabel(\"No.of epochs\")\n",
        "plt.ylabel(\"Loss value\")\n",
        "plt.show()\n",
        "\n",
        "# Models Accuracy during training phase\n",
        "plt.plot(history.history['acc'])\n",
        "plt.plot(history.history['val_acc'])\n",
        "plt.title(\"Model's Accuracy\")\n",
        "plt.legend(['Training', 'Validation'])\n",
        "plt.xlabel('No.of epochs')\n",
        "plt.ylabel(\"Accuracy\")\n",
        "plt.show()"
      ],
      "execution_count": 10,
      "outputs": [
        {
          "output_type": "display_data",
          "data": {
            "image/png": "[encoded data removed]",
            "text/plain": [
              "<Figure size 432x288 with 1 Axes>"
            ]
          },
          "metadata": {
            "tags": [],
            "needs_background": "light"
          }
        },
        {
          "output_type": "display_data",
          "data": {
            "image/png": "[encoded data removed]",
            "text/plain": [
              "<Figure size 432x288 with 1 Axes>"
            ]
          },
          "metadata": {
            "tags": [],
            "needs_background": "light"
          }
        }
      ]
    },
    {
      "cell_type": "code",
      "metadata": {
        "id": "IlaDRkVe2fN8",
        "colab": {
          "base_uri": "https://localhost:8080/"
        },
        "outputId": "c4d3e7d0-7fbb-4b68-9c36-94fe17a8f110"
      },
      "source": [
        "# Predicting the Value for test sample\n",
        "pred = model.predict_classes(X_test[[10],:])\n",
        "print(\"The Model prediction for 10th sentence is: \",pred)\n",
        "print(\"The correct Lable is: \",y_test[10])"
      ],
      "execution_count": 11,
      "outputs": [
        {
          "output_type": "stream",
          "text": [
            "The Model prediction for 10th sentence is:  [0]\n",
            "The correct Lable is:  0\n"
          ],
          "name": "stdout"
        },
        {
          "output_type": "stream",
          "text": [
            "/usr/local/lib/python3.7/dist-packages/tensorflow/python/keras/engine/sequential.py:450: UserWarning: `model.predict_classes()` is deprecated and will be removed after 2021-01-01. Please use instead:* `np.argmax(model.predict(x), axis=-1)`,   if your model does multi-class classification   (e.g. if it uses a `softmax` last-layer activation).* `(model.predict(x) > 0.5).astype(\"int32\")`,   if your model does binary classification   (e.g. if it uses a `sigmoid` last-layer activation).\n",
            "  warnings.warn('`model.predict_classes()` is deprecated and '\n"
          ],
          "name": "stderr"
        }
      ]
    },
    {
      "cell_type": "code",
      "metadata": {
        "id": "4UfzaLrASuZk"
      },
      "source": [
        ""
      ],
      "execution_count": null,
      "outputs": []
    }
  ]
}